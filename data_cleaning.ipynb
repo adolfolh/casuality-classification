{
  "nbformat": 4,
  "nbformat_minor": 0,
  "metadata": {
    "colab": {
      "name": "data-cleaning.ipynb",
      "provenance": [],
      "authorship_tag": "ABX9TyMci67S3heRrH2+iMpr2wXH",
      "include_colab_link": true
    },
    "kernelspec": {
      "name": "python3",
      "display_name": "Python 3"
    },
    "language_info": {
      "name": "python"
    }
  },
  "cells": [
    {
      "cell_type": "markdown",
      "metadata": {
        "id": "view-in-github",
        "colab_type": "text"
      },
      "source": [
        "<a href=\"https://colab.research.google.com/github/adolfolh/casuality-classification/blob/main/data_cleaning.ipynb\" target=\"_parent\"><img src=\"https://colab.research.google.com/assets/colab-badge.svg\" alt=\"Open In Colab\"/></a>"
      ]
    },
    {
      "cell_type": "markdown",
      "source": [
        "# 🧽 ***`DATA CLEANING & PREPARATION`***"
      ],
      "metadata": {
        "id": "J2Fez-QbD8L5"
      }
    },
    {
      "cell_type": "markdown",
      "source": [
        "## **Steps I take to clean and prepare my data for Analysis:**\n",
        "\n",
        "1. Checking for duplicate data and removing them\n",
        "\n",
        "2. Removing extra spaces and blanks\n",
        "\n",
        "3. Separating or combining values in a cell when needed\n",
        "\n",
        "4. Checking that the values in certain columns are of an appropriate range\n",
        "\n",
        "5. Checking for outliers\n",
        "\n",
        "6. Correcting wrongly spelt or inputted data\n",
        "\n",
        "7. Adding new and relevant rows to your data\n",
        "\n",
        "8. Checking for null values and retrieving records based on other conditions if initial condition is missing.\n",
        "\n",
        "9. Checking if your values follow the accurate pattern."
      ],
      "metadata": {
        "id": "cnvO2-m5DdHA"
      }
    },
    {
      "cell_type": "code",
      "source": [
        "# Run to download data\n",
        "!wget https://github.com/adolfolh/casuality-classification/raw/main/data/casualties-2020.csv"
      ],
      "metadata": {
        "id": "kTcgCnBXDzHg"
      },
      "execution_count": null,
      "outputs": []
    },
    {
      "cell_type": "code",
      "source": [
        "# Import libraries\n",
        "import pandas as pd\n",
        "import numpy as np\n",
        "import plotly.express as px"
      ],
      "metadata": {
        "id": "S_k90HqoE3NE"
      },
      "execution_count": 2,
      "outputs": []
    },
    {
      "cell_type": "code",
      "source": [
        "# Import data\n",
        "raw_data = pd.read_csv(\"casualties-2020.csv\", dtype={\n",
        "    \"accident_index\" : \"string\",\n",
        "    \"accident_reference\" : \"string\",\n",
        "    \"casualty_class\" : \"category\",\n",
        "    \"sex_of_casualty\" : \"category\",\n",
        "    \"age_band_of_casualty\" : \"category\",\n",
        "    \"casualty_severity\" : \"category\",\n",
        "    \"pedestrian_location\" : \"category\",\n",
        "    \"pedestrian_movement\" : \"category\",\n",
        "    \"car_passenger\" : \"category\",\n",
        "    \"bus_or_coach_passenger\" : \"category\",\n",
        "    \"pedestrian_road_maintenance_worker\" : \"category\",\n",
        "    \"casualty_type\" : \"category\",\n",
        "    \"casualty_home_area_type\" : \"category\",\n",
        "    \"casualty_imd_decile\" : \"category\"\n",
        "    })"
      ],
      "metadata": {
        "id": "BjdzYWuSFCL1"
      },
      "execution_count": 3,
      "outputs": []
    },
    {
      "cell_type": "code",
      "source": [
        "raw_data.head()"
      ],
      "metadata": {
        "colab": {
          "base_uri": "https://localhost:8080/",
          "height": 270
        },
        "id": "-OJoc0j1FEVL",
        "outputId": "18eba6cc-2556-4d97-e006-a960901aca79"
      },
      "execution_count": 26,
      "outputs": [
        {
          "output_type": "execute_result",
          "data": {
            "text/plain": [
              "  accident_index  accident_year accident_reference  vehicle_reference  \\\n",
              "0  2020010219808           2020          010219808                  1   \n",
              "1  2020010220496           2020          010220496                  1   \n",
              "2  2020010220496           2020          010220496                  1   \n",
              "3  2020010228005           2020          010228005                  1   \n",
              "4  2020010228006           2020          010228006                  1   \n",
              "\n",
              "   casualty_reference casualty_class sex_of_casualty  age_of_casualty  \\\n",
              "0                   1              3               1               31   \n",
              "1                   1              3               2                2   \n",
              "2                   2              3               2                4   \n",
              "3                   1              3               1               23   \n",
              "4                   1              3               1               47   \n",
              "\n",
              "  age_band_of_casualty casualty_severity pedestrian_location  \\\n",
              "0                    6                 3                   9   \n",
              "1                    1                 3                   1   \n",
              "2                    1                 3                   1   \n",
              "3                    5                 3                   5   \n",
              "4                    8                 2                   4   \n",
              "\n",
              "  pedestrian_movement car_passenger bus_or_coach_passenger  \\\n",
              "0                   5             0                      0   \n",
              "1                   1             0                      0   \n",
              "2                   1             0                      0   \n",
              "3                   9             0                      0   \n",
              "4                   1             0                      0   \n",
              "\n",
              "  pedestrian_road_maintenance_worker casualty_type casualty_home_area_type  \\\n",
              "0                                  0             0                       1   \n",
              "1                                  0             0                       1   \n",
              "2                                  0             0                       1   \n",
              "3                                  0             0                       1   \n",
              "4                                  0             0                       1   \n",
              "\n",
              "  casualty_imd_decile  \n",
              "0                   4  \n",
              "1                   2  \n",
              "2                   2  \n",
              "3                   3  \n",
              "4                   3  "
            ],
            "text/html": [
              "\n",
              "  <div id=\"df-235dc769-734a-4092-8447-ed1231c16db7\">\n",
              "    <div class=\"colab-df-container\">\n",
              "      <div>\n",
              "<style scoped>\n",
              "    .dataframe tbody tr th:only-of-type {\n",
              "        vertical-align: middle;\n",
              "    }\n",
              "\n",
              "    .dataframe tbody tr th {\n",
              "        vertical-align: top;\n",
              "    }\n",
              "\n",
              "    .dataframe thead th {\n",
              "        text-align: right;\n",
              "    }\n",
              "</style>\n",
              "<table border=\"1\" class=\"dataframe\">\n",
              "  <thead>\n",
              "    <tr style=\"text-align: right;\">\n",
              "      <th></th>\n",
              "      <th>accident_index</th>\n",
              "      <th>accident_year</th>\n",
              "      <th>accident_reference</th>\n",
              "      <th>vehicle_reference</th>\n",
              "      <th>casualty_reference</th>\n",
              "      <th>casualty_class</th>\n",
              "      <th>sex_of_casualty</th>\n",
              "      <th>age_of_casualty</th>\n",
              "      <th>age_band_of_casualty</th>\n",
              "      <th>casualty_severity</th>\n",
              "      <th>pedestrian_location</th>\n",
              "      <th>pedestrian_movement</th>\n",
              "      <th>car_passenger</th>\n",
              "      <th>bus_or_coach_passenger</th>\n",
              "      <th>pedestrian_road_maintenance_worker</th>\n",
              "      <th>casualty_type</th>\n",
              "      <th>casualty_home_area_type</th>\n",
              "      <th>casualty_imd_decile</th>\n",
              "    </tr>\n",
              "  </thead>\n",
              "  <tbody>\n",
              "    <tr>\n",
              "      <th>0</th>\n",
              "      <td>2020010219808</td>\n",
              "      <td>2020</td>\n",
              "      <td>010219808</td>\n",
              "      <td>1</td>\n",
              "      <td>1</td>\n",
              "      <td>3</td>\n",
              "      <td>1</td>\n",
              "      <td>31</td>\n",
              "      <td>6</td>\n",
              "      <td>3</td>\n",
              "      <td>9</td>\n",
              "      <td>5</td>\n",
              "      <td>0</td>\n",
              "      <td>0</td>\n",
              "      <td>0</td>\n",
              "      <td>0</td>\n",
              "      <td>1</td>\n",
              "      <td>4</td>\n",
              "    </tr>\n",
              "    <tr>\n",
              "      <th>1</th>\n",
              "      <td>2020010220496</td>\n",
              "      <td>2020</td>\n",
              "      <td>010220496</td>\n",
              "      <td>1</td>\n",
              "      <td>1</td>\n",
              "      <td>3</td>\n",
              "      <td>2</td>\n",
              "      <td>2</td>\n",
              "      <td>1</td>\n",
              "      <td>3</td>\n",
              "      <td>1</td>\n",
              "      <td>1</td>\n",
              "      <td>0</td>\n",
              "      <td>0</td>\n",
              "      <td>0</td>\n",
              "      <td>0</td>\n",
              "      <td>1</td>\n",
              "      <td>2</td>\n",
              "    </tr>\n",
              "    <tr>\n",
              "      <th>2</th>\n",
              "      <td>2020010220496</td>\n",
              "      <td>2020</td>\n",
              "      <td>010220496</td>\n",
              "      <td>1</td>\n",
              "      <td>2</td>\n",
              "      <td>3</td>\n",
              "      <td>2</td>\n",
              "      <td>4</td>\n",
              "      <td>1</td>\n",
              "      <td>3</td>\n",
              "      <td>1</td>\n",
              "      <td>1</td>\n",
              "      <td>0</td>\n",
              "      <td>0</td>\n",
              "      <td>0</td>\n",
              "      <td>0</td>\n",
              "      <td>1</td>\n",
              "      <td>2</td>\n",
              "    </tr>\n",
              "    <tr>\n",
              "      <th>3</th>\n",
              "      <td>2020010228005</td>\n",
              "      <td>2020</td>\n",
              "      <td>010228005</td>\n",
              "      <td>1</td>\n",
              "      <td>1</td>\n",
              "      <td>3</td>\n",
              "      <td>1</td>\n",
              "      <td>23</td>\n",
              "      <td>5</td>\n",
              "      <td>3</td>\n",
              "      <td>5</td>\n",
              "      <td>9</td>\n",
              "      <td>0</td>\n",
              "      <td>0</td>\n",
              "      <td>0</td>\n",
              "      <td>0</td>\n",
              "      <td>1</td>\n",
              "      <td>3</td>\n",
              "    </tr>\n",
              "    <tr>\n",
              "      <th>4</th>\n",
              "      <td>2020010228006</td>\n",
              "      <td>2020</td>\n",
              "      <td>010228006</td>\n",
              "      <td>1</td>\n",
              "      <td>1</td>\n",
              "      <td>3</td>\n",
              "      <td>1</td>\n",
              "      <td>47</td>\n",
              "      <td>8</td>\n",
              "      <td>2</td>\n",
              "      <td>4</td>\n",
              "      <td>1</td>\n",
              "      <td>0</td>\n",
              "      <td>0</td>\n",
              "      <td>0</td>\n",
              "      <td>0</td>\n",
              "      <td>1</td>\n",
              "      <td>3</td>\n",
              "    </tr>\n",
              "  </tbody>\n",
              "</table>\n",
              "</div>\n",
              "      <button class=\"colab-df-convert\" onclick=\"convertToInteractive('df-235dc769-734a-4092-8447-ed1231c16db7')\"\n",
              "              title=\"Convert this dataframe to an interactive table.\"\n",
              "              style=\"display:none;\">\n",
              "        \n",
              "  <svg xmlns=\"http://www.w3.org/2000/svg\" height=\"24px\"viewBox=\"0 0 24 24\"\n",
              "       width=\"24px\">\n",
              "    <path d=\"M0 0h24v24H0V0z\" fill=\"none\"/>\n",
              "    <path d=\"M18.56 5.44l.94 2.06.94-2.06 2.06-.94-2.06-.94-.94-2.06-.94 2.06-2.06.94zm-11 1L8.5 8.5l.94-2.06 2.06-.94-2.06-.94L8.5 2.5l-.94 2.06-2.06.94zm10 10l.94 2.06.94-2.06 2.06-.94-2.06-.94-.94-2.06-.94 2.06-2.06.94z\"/><path d=\"M17.41 7.96l-1.37-1.37c-.4-.4-.92-.59-1.43-.59-.52 0-1.04.2-1.43.59L10.3 9.45l-7.72 7.72c-.78.78-.78 2.05 0 2.83L4 21.41c.39.39.9.59 1.41.59.51 0 1.02-.2 1.41-.59l7.78-7.78 2.81-2.81c.8-.78.8-2.07 0-2.86zM5.41 20L4 18.59l7.72-7.72 1.47 1.35L5.41 20z\"/>\n",
              "  </svg>\n",
              "      </button>\n",
              "      \n",
              "  <style>\n",
              "    .colab-df-container {\n",
              "      display:flex;\n",
              "      flex-wrap:wrap;\n",
              "      gap: 12px;\n",
              "    }\n",
              "\n",
              "    .colab-df-convert {\n",
              "      background-color: #E8F0FE;\n",
              "      border: none;\n",
              "      border-radius: 50%;\n",
              "      cursor: pointer;\n",
              "      display: none;\n",
              "      fill: #1967D2;\n",
              "      height: 32px;\n",
              "      padding: 0 0 0 0;\n",
              "      width: 32px;\n",
              "    }\n",
              "\n",
              "    .colab-df-convert:hover {\n",
              "      background-color: #E2EBFA;\n",
              "      box-shadow: 0px 1px 2px rgba(60, 64, 67, 0.3), 0px 1px 3px 1px rgba(60, 64, 67, 0.15);\n",
              "      fill: #174EA6;\n",
              "    }\n",
              "\n",
              "    [theme=dark] .colab-df-convert {\n",
              "      background-color: #3B4455;\n",
              "      fill: #D2E3FC;\n",
              "    }\n",
              "\n",
              "    [theme=dark] .colab-df-convert:hover {\n",
              "      background-color: #434B5C;\n",
              "      box-shadow: 0px 1px 3px 1px rgba(0, 0, 0, 0.15);\n",
              "      filter: drop-shadow(0px 1px 2px rgba(0, 0, 0, 0.3));\n",
              "      fill: #FFFFFF;\n",
              "    }\n",
              "  </style>\n",
              "\n",
              "      <script>\n",
              "        const buttonEl =\n",
              "          document.querySelector('#df-235dc769-734a-4092-8447-ed1231c16db7 button.colab-df-convert');\n",
              "        buttonEl.style.display =\n",
              "          google.colab.kernel.accessAllowed ? 'block' : 'none';\n",
              "\n",
              "        async function convertToInteractive(key) {\n",
              "          const element = document.querySelector('#df-235dc769-734a-4092-8447-ed1231c16db7');\n",
              "          const dataTable =\n",
              "            await google.colab.kernel.invokeFunction('convertToInteractive',\n",
              "                                                     [key], {});\n",
              "          if (!dataTable) return;\n",
              "\n",
              "          const docLinkHtml = 'Like what you see? Visit the ' +\n",
              "            '<a target=\"_blank\" href=https://colab.research.google.com/notebooks/data_table.ipynb>data table notebook</a>'\n",
              "            + ' to learn more about interactive tables.';\n",
              "          element.innerHTML = '';\n",
              "          dataTable['output_type'] = 'display_data';\n",
              "          await google.colab.output.renderOutput(dataTable, element);\n",
              "          const docLink = document.createElement('div');\n",
              "          docLink.innerHTML = docLinkHtml;\n",
              "          element.appendChild(docLink);\n",
              "        }\n",
              "      </script>\n",
              "    </div>\n",
              "  </div>\n",
              "  "
            ]
          },
          "metadata": {},
          "execution_count": 26
        }
      ]
    },
    {
      "cell_type": "markdown",
      "source": [
        "### 1. Checking for duplicate data and removing them"
      ],
      "metadata": {
        "id": "EBTJB3FoF5nh"
      }
    },
    {
      "cell_type": "code",
      "source": [
        "dupl = raw_data.duplicated()\n",
        "dupl.groupby(dupl).size()"
      ],
      "metadata": {
        "colab": {
          "base_uri": "https://localhost:8080/"
        },
        "id": "9YY-wmpyFJDe",
        "outputId": "a2037ccd-0cd2-4aa8-d307-1b9e4756df69"
      },
      "execution_count": 25,
      "outputs": [
        {
          "output_type": "execute_result",
          "data": {
            "text/plain": [
              "False    115584\n",
              "dtype: int64"
            ]
          },
          "metadata": {},
          "execution_count": 25
        }
      ]
    },
    {
      "cell_type": "markdown",
      "source": [
        "There is no duplicate data in the dataset."
      ],
      "metadata": {
        "id": "nVtwOSOqF_vi"
      }
    },
    {
      "cell_type": "markdown",
      "source": [
        "### 2. Removing extra spaces and blanks"
      ],
      "metadata": {
        "id": "Cg73tcZfHLkO"
      }
    },
    {
      "cell_type": "markdown",
      "source": [
        "A priori, the dataset does not seem to need this."
      ],
      "metadata": {
        "id": "7p-TKN09Hjno"
      }
    },
    {
      "cell_type": "markdown",
      "source": [
        "### 3. Separating or combining values in a cell when needed"
      ],
      "metadata": {
        "id": "wmpBIPn8HpG4"
      }
    },
    {
      "cell_type": "code",
      "source": [
        ""
      ],
      "metadata": {
        "id": "pRBvmLPpHuHC"
      },
      "execution_count": null,
      "outputs": []
    },
    {
      "cell_type": "markdown",
      "source": [
        "### 4. Checking that the values in certain columns are of an appropriate range"
      ],
      "metadata": {
        "id": "5nUan5XgJVEQ"
      }
    },
    {
      "cell_type": "code",
      "source": [
        ""
      ],
      "metadata": {
        "id": "8XOeQ1izJVer"
      },
      "execution_count": null,
      "outputs": []
    },
    {
      "cell_type": "markdown",
      "source": [
        "### 5. Checking for outliers"
      ],
      "metadata": {
        "id": "11qeGEBqJV57"
      }
    },
    {
      "cell_type": "code",
      "source": [
        ""
      ],
      "metadata": {
        "id": "D3FXS1VLJWOP"
      },
      "execution_count": null,
      "outputs": []
    }
  ]
}