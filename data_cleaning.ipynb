{
  "nbformat": 4,
  "nbformat_minor": 0,
  "metadata": {
    "colab": {
      "name": "data-cleaning.ipynb",
      "provenance": [],
      "authorship_tag": "ABX9TyN3BJn+pHEJP1zk/OE26msC",
      "include_colab_link": true
    },
    "kernelspec": {
      "name": "python3",
      "display_name": "Python 3"
    },
    "language_info": {
      "name": "python"
    }
  },
  "cells": [
    {
      "cell_type": "markdown",
      "metadata": {
        "id": "view-in-github",
        "colab_type": "text"
      },
      "source": [
        "<a href=\"https://colab.research.google.com/github/adolfolh/casuality-classification/blob/main/data_cleaning.ipynb\" target=\"_parent\"><img src=\"https://colab.research.google.com/assets/colab-badge.svg\" alt=\"Open In Colab\"/></a>"
      ]
    },
    {
      "cell_type": "markdown",
      "source": [
        "# **`2.` DATA CLEANING & PREPARATION** 🧽"
      ],
      "metadata": {
        "id": "J2Fez-QbD8L5"
      }
    },
    {
      "cell_type": "markdown",
      "source": [
        "## **Steps taken to clean and prepare this data:**\n",
        "\n",
        "1. Checking for duplicate data and removing them\n",
        "2. Remove unnecessary rows/columns\n",
        "3. Feature selection"
      ],
      "metadata": {
        "id": "cnvO2-m5DdHA"
      }
    },
    {
      "cell_type": "code",
      "source": [
        "# Run to download data\n",
        "!wget https://github.com/adolfolh/casuality-classification/raw/main/data/casualties-2020.csv"
      ],
      "metadata": {
        "id": "kTcgCnBXDzHg"
      },
      "execution_count": null,
      "outputs": []
    },
    {
      "cell_type": "code",
      "source": [
        "# Import libraries\n",
        "import pandas as pd\n",
        "import numpy as np\n",
        "import plotly.express as px\n",
        "from sklearn.model_selection import train_test_split\n",
        "from sklearn.feature_selection import SelectKBest\n",
        "from sklearn.feature_selection import chi2\n",
        "from sklearn.feature_selection import mutual_info_classif as MIC\n",
        "from sklearn.tree import DecisionTreeClassifier as DTC"
      ],
      "metadata": {
        "id": "S_k90HqoE3NE"
      },
      "execution_count": 26,
      "outputs": []
    },
    {
      "cell_type": "code",
      "source": [
        "# Import data\n",
        "raw_data = pd.read_csv(\"casualties-2020.csv\", dtype={\n",
        "    \"accident_index\" : \"string\",\n",
        "    \"accident_reference\" : \"string\",\n",
        "    \"casualty_class\" : int,\n",
        "    \"sex_of_casualty\" : int,\n",
        "    \"age_band_of_casualty\" : int,\n",
        "    \"casualty_severity\" : int,\n",
        "    \"pedestrian_location\" : int,\n",
        "    \"pedestrian_movement\" : int,\n",
        "    \"car_passenger\" : int,\n",
        "    \"bus_or_coach_passenger\" : int,\n",
        "    \"pedestrian_road_maintenance_worker\" : int,\n",
        "    \"casualty_type\" : int,\n",
        "    \"casualty_home_area_type\" : int,\n",
        "    \"casualty_imd_decile\" : int\n",
        "    })"
      ],
      "metadata": {
        "id": "BjdzYWuSFCL1"
      },
      "execution_count": 27,
      "outputs": []
    },
    {
      "cell_type": "code",
      "source": [
        "raw_data.head()"
      ],
      "metadata": {
        "colab": {
          "base_uri": "https://localhost:8080/",
          "height": 270
        },
        "id": "-OJoc0j1FEVL",
        "outputId": "610f65cf-9b2b-491d-d4f9-9f6d4021f20c"
      },
      "execution_count": 28,
      "outputs": [
        {
          "output_type": "execute_result",
          "data": {
            "text/plain": [
              "  accident_index  accident_year accident_reference  vehicle_reference  \\\n",
              "0  2020010219808           2020          010219808                  1   \n",
              "1  2020010220496           2020          010220496                  1   \n",
              "2  2020010220496           2020          010220496                  1   \n",
              "3  2020010228005           2020          010228005                  1   \n",
              "4  2020010228006           2020          010228006                  1   \n",
              "\n",
              "   casualty_reference  casualty_class  sex_of_casualty  age_of_casualty  \\\n",
              "0                   1               3                1               31   \n",
              "1                   1               3                2                2   \n",
              "2                   2               3                2                4   \n",
              "3                   1               3                1               23   \n",
              "4                   1               3                1               47   \n",
              "\n",
              "   age_band_of_casualty  casualty_severity  pedestrian_location  \\\n",
              "0                     6                  3                    9   \n",
              "1                     1                  3                    1   \n",
              "2                     1                  3                    1   \n",
              "3                     5                  3                    5   \n",
              "4                     8                  2                    4   \n",
              "\n",
              "   pedestrian_movement  car_passenger  bus_or_coach_passenger  \\\n",
              "0                    5              0                       0   \n",
              "1                    1              0                       0   \n",
              "2                    1              0                       0   \n",
              "3                    9              0                       0   \n",
              "4                    1              0                       0   \n",
              "\n",
              "   pedestrian_road_maintenance_worker  casualty_type  casualty_home_area_type  \\\n",
              "0                                   0              0                        1   \n",
              "1                                   0              0                        1   \n",
              "2                                   0              0                        1   \n",
              "3                                   0              0                        1   \n",
              "4                                   0              0                        1   \n",
              "\n",
              "   casualty_imd_decile  \n",
              "0                    4  \n",
              "1                    2  \n",
              "2                    2  \n",
              "3                    3  \n",
              "4                    3  "
            ],
            "text/html": [
              "\n",
              "  <div id=\"df-0e178310-6e68-4b0d-948d-2400ceede760\">\n",
              "    <div class=\"colab-df-container\">\n",
              "      <div>\n",
              "<style scoped>\n",
              "    .dataframe tbody tr th:only-of-type {\n",
              "        vertical-align: middle;\n",
              "    }\n",
              "\n",
              "    .dataframe tbody tr th {\n",
              "        vertical-align: top;\n",
              "    }\n",
              "\n",
              "    .dataframe thead th {\n",
              "        text-align: right;\n",
              "    }\n",
              "</style>\n",
              "<table border=\"1\" class=\"dataframe\">\n",
              "  <thead>\n",
              "    <tr style=\"text-align: right;\">\n",
              "      <th></th>\n",
              "      <th>accident_index</th>\n",
              "      <th>accident_year</th>\n",
              "      <th>accident_reference</th>\n",
              "      <th>vehicle_reference</th>\n",
              "      <th>casualty_reference</th>\n",
              "      <th>casualty_class</th>\n",
              "      <th>sex_of_casualty</th>\n",
              "      <th>age_of_casualty</th>\n",
              "      <th>age_band_of_casualty</th>\n",
              "      <th>casualty_severity</th>\n",
              "      <th>pedestrian_location</th>\n",
              "      <th>pedestrian_movement</th>\n",
              "      <th>car_passenger</th>\n",
              "      <th>bus_or_coach_passenger</th>\n",
              "      <th>pedestrian_road_maintenance_worker</th>\n",
              "      <th>casualty_type</th>\n",
              "      <th>casualty_home_area_type</th>\n",
              "      <th>casualty_imd_decile</th>\n",
              "    </tr>\n",
              "  </thead>\n",
              "  <tbody>\n",
              "    <tr>\n",
              "      <th>0</th>\n",
              "      <td>2020010219808</td>\n",
              "      <td>2020</td>\n",
              "      <td>010219808</td>\n",
              "      <td>1</td>\n",
              "      <td>1</td>\n",
              "      <td>3</td>\n",
              "      <td>1</td>\n",
              "      <td>31</td>\n",
              "      <td>6</td>\n",
              "      <td>3</td>\n",
              "      <td>9</td>\n",
              "      <td>5</td>\n",
              "      <td>0</td>\n",
              "      <td>0</td>\n",
              "      <td>0</td>\n",
              "      <td>0</td>\n",
              "      <td>1</td>\n",
              "      <td>4</td>\n",
              "    </tr>\n",
              "    <tr>\n",
              "      <th>1</th>\n",
              "      <td>2020010220496</td>\n",
              "      <td>2020</td>\n",
              "      <td>010220496</td>\n",
              "      <td>1</td>\n",
              "      <td>1</td>\n",
              "      <td>3</td>\n",
              "      <td>2</td>\n",
              "      <td>2</td>\n",
              "      <td>1</td>\n",
              "      <td>3</td>\n",
              "      <td>1</td>\n",
              "      <td>1</td>\n",
              "      <td>0</td>\n",
              "      <td>0</td>\n",
              "      <td>0</td>\n",
              "      <td>0</td>\n",
              "      <td>1</td>\n",
              "      <td>2</td>\n",
              "    </tr>\n",
              "    <tr>\n",
              "      <th>2</th>\n",
              "      <td>2020010220496</td>\n",
              "      <td>2020</td>\n",
              "      <td>010220496</td>\n",
              "      <td>1</td>\n",
              "      <td>2</td>\n",
              "      <td>3</td>\n",
              "      <td>2</td>\n",
              "      <td>4</td>\n",
              "      <td>1</td>\n",
              "      <td>3</td>\n",
              "      <td>1</td>\n",
              "      <td>1</td>\n",
              "      <td>0</td>\n",
              "      <td>0</td>\n",
              "      <td>0</td>\n",
              "      <td>0</td>\n",
              "      <td>1</td>\n",
              "      <td>2</td>\n",
              "    </tr>\n",
              "    <tr>\n",
              "      <th>3</th>\n",
              "      <td>2020010228005</td>\n",
              "      <td>2020</td>\n",
              "      <td>010228005</td>\n",
              "      <td>1</td>\n",
              "      <td>1</td>\n",
              "      <td>3</td>\n",
              "      <td>1</td>\n",
              "      <td>23</td>\n",
              "      <td>5</td>\n",
              "      <td>3</td>\n",
              "      <td>5</td>\n",
              "      <td>9</td>\n",
              "      <td>0</td>\n",
              "      <td>0</td>\n",
              "      <td>0</td>\n",
              "      <td>0</td>\n",
              "      <td>1</td>\n",
              "      <td>3</td>\n",
              "    </tr>\n",
              "    <tr>\n",
              "      <th>4</th>\n",
              "      <td>2020010228006</td>\n",
              "      <td>2020</td>\n",
              "      <td>010228006</td>\n",
              "      <td>1</td>\n",
              "      <td>1</td>\n",
              "      <td>3</td>\n",
              "      <td>1</td>\n",
              "      <td>47</td>\n",
              "      <td>8</td>\n",
              "      <td>2</td>\n",
              "      <td>4</td>\n",
              "      <td>1</td>\n",
              "      <td>0</td>\n",
              "      <td>0</td>\n",
              "      <td>0</td>\n",
              "      <td>0</td>\n",
              "      <td>1</td>\n",
              "      <td>3</td>\n",
              "    </tr>\n",
              "  </tbody>\n",
              "</table>\n",
              "</div>\n",
              "      <button class=\"colab-df-convert\" onclick=\"convertToInteractive('df-0e178310-6e68-4b0d-948d-2400ceede760')\"\n",
              "              title=\"Convert this dataframe to an interactive table.\"\n",
              "              style=\"display:none;\">\n",
              "        \n",
              "  <svg xmlns=\"http://www.w3.org/2000/svg\" height=\"24px\"viewBox=\"0 0 24 24\"\n",
              "       width=\"24px\">\n",
              "    <path d=\"M0 0h24v24H0V0z\" fill=\"none\"/>\n",
              "    <path d=\"M18.56 5.44l.94 2.06.94-2.06 2.06-.94-2.06-.94-.94-2.06-.94 2.06-2.06.94zm-11 1L8.5 8.5l.94-2.06 2.06-.94-2.06-.94L8.5 2.5l-.94 2.06-2.06.94zm10 10l.94 2.06.94-2.06 2.06-.94-2.06-.94-.94-2.06-.94 2.06-2.06.94z\"/><path d=\"M17.41 7.96l-1.37-1.37c-.4-.4-.92-.59-1.43-.59-.52 0-1.04.2-1.43.59L10.3 9.45l-7.72 7.72c-.78.78-.78 2.05 0 2.83L4 21.41c.39.39.9.59 1.41.59.51 0 1.02-.2 1.41-.59l7.78-7.78 2.81-2.81c.8-.78.8-2.07 0-2.86zM5.41 20L4 18.59l7.72-7.72 1.47 1.35L5.41 20z\"/>\n",
              "  </svg>\n",
              "      </button>\n",
              "      \n",
              "  <style>\n",
              "    .colab-df-container {\n",
              "      display:flex;\n",
              "      flex-wrap:wrap;\n",
              "      gap: 12px;\n",
              "    }\n",
              "\n",
              "    .colab-df-convert {\n",
              "      background-color: #E8F0FE;\n",
              "      border: none;\n",
              "      border-radius: 50%;\n",
              "      cursor: pointer;\n",
              "      display: none;\n",
              "      fill: #1967D2;\n",
              "      height: 32px;\n",
              "      padding: 0 0 0 0;\n",
              "      width: 32px;\n",
              "    }\n",
              "\n",
              "    .colab-df-convert:hover {\n",
              "      background-color: #E2EBFA;\n",
              "      box-shadow: 0px 1px 2px rgba(60, 64, 67, 0.3), 0px 1px 3px 1px rgba(60, 64, 67, 0.15);\n",
              "      fill: #174EA6;\n",
              "    }\n",
              "\n",
              "    [theme=dark] .colab-df-convert {\n",
              "      background-color: #3B4455;\n",
              "      fill: #D2E3FC;\n",
              "    }\n",
              "\n",
              "    [theme=dark] .colab-df-convert:hover {\n",
              "      background-color: #434B5C;\n",
              "      box-shadow: 0px 1px 3px 1px rgba(0, 0, 0, 0.15);\n",
              "      filter: drop-shadow(0px 1px 2px rgba(0, 0, 0, 0.3));\n",
              "      fill: #FFFFFF;\n",
              "    }\n",
              "  </style>\n",
              "\n",
              "      <script>\n",
              "        const buttonEl =\n",
              "          document.querySelector('#df-0e178310-6e68-4b0d-948d-2400ceede760 button.colab-df-convert');\n",
              "        buttonEl.style.display =\n",
              "          google.colab.kernel.accessAllowed ? 'block' : 'none';\n",
              "\n",
              "        async function convertToInteractive(key) {\n",
              "          const element = document.querySelector('#df-0e178310-6e68-4b0d-948d-2400ceede760');\n",
              "          const dataTable =\n",
              "            await google.colab.kernel.invokeFunction('convertToInteractive',\n",
              "                                                     [key], {});\n",
              "          if (!dataTable) return;\n",
              "\n",
              "          const docLinkHtml = 'Like what you see? Visit the ' +\n",
              "            '<a target=\"_blank\" href=https://colab.research.google.com/notebooks/data_table.ipynb>data table notebook</a>'\n",
              "            + ' to learn more about interactive tables.';\n",
              "          element.innerHTML = '';\n",
              "          dataTable['output_type'] = 'display_data';\n",
              "          await google.colab.output.renderOutput(dataTable, element);\n",
              "          const docLink = document.createElement('div');\n",
              "          docLink.innerHTML = docLinkHtml;\n",
              "          element.appendChild(docLink);\n",
              "        }\n",
              "      </script>\n",
              "    </div>\n",
              "  </div>\n",
              "  "
            ]
          },
          "metadata": {},
          "execution_count": 28
        }
      ]
    },
    {
      "cell_type": "markdown",
      "source": [
        "### 1. Checking for duplicate data and removing them"
      ],
      "metadata": {
        "id": "EBTJB3FoF5nh"
      }
    },
    {
      "cell_type": "code",
      "source": [
        "dupl = raw_data.duplicated()\n",
        "dupl.groupby(dupl).size()"
      ],
      "metadata": {
        "colab": {
          "base_uri": "https://localhost:8080/"
        },
        "id": "9YY-wmpyFJDe",
        "outputId": "ebe0aeab-d3e2-4269-f875-703ac669c925"
      },
      "execution_count": 29,
      "outputs": [
        {
          "output_type": "execute_result",
          "data": {
            "text/plain": [
              "False    115584\n",
              "dtype: int64"
            ]
          },
          "metadata": {},
          "execution_count": 29
        }
      ]
    },
    {
      "cell_type": "markdown",
      "source": [
        "There is no duplicate data in the dataset."
      ],
      "metadata": {
        "id": "nVtwOSOqF_vi"
      }
    },
    {
      "cell_type": "markdown",
      "source": [
        "### 2. Remove unnecessary rows/columns"
      ],
      "metadata": {
        "id": "eOAhoNYj4w5I"
      }
    },
    {
      "cell_type": "code",
      "source": [
        "# Delete reference/index, year and age band columns.\n",
        "small_df = raw_data.drop(['accident_index','accident_year','accident_reference','vehicle_reference','casualty_reference','age_band_of_casualty'], axis=1, inplace=False)"
      ],
      "metadata": {
        "id": "o9wtiuGXRPKa"
      },
      "execution_count": 30,
      "outputs": []
    },
    {
      "cell_type": "code",
      "source": [
        "# Delete unwanted rows\n",
        "small_df.drop(small_df[small_df['age_of_casualty'] == -1].index, axis=0, inplace=True) # dropped rows where age was not known\n",
        "small_df.drop(small_df[(small_df['sex_of_casualty'] == -1) | (small_df['sex_of_casualty'] == 9) ].index, axis=0, inplace=True) # dropped rows where sex was not known\n",
        "small_df.drop(small_df[(small_df['pedestrian_location'] == -1) | (small_df['pedestrian_location'] == 10) ].index, axis=0, inplace=True) # dropped rows where pedestrian location was not known\n",
        "small_df.drop(small_df[(small_df['pedestrian_movement'] == -1) | (small_df['pedestrian_movement'] == 9) ].index, axis=0, inplace=True) # dropped rows where pedestrian movement was not known\n",
        "small_df.drop(small_df[(small_df['car_passenger'] == -1) | (small_df['car_passenger'] == 9) ].index, axis=0, inplace=True) # dropped rows where car passenger was not known\n",
        "small_df.drop(small_df[(small_df['bus_or_coach_passenger'] == -1) | (small_df['bus_or_coach_passenger'] == 9) ].index, axis=0, inplace=True) # dropped rows where bus or coach passenger was not known\n",
        "small_df.drop(small_df[(small_df['pedestrian_road_maintenance_worker'] == -1) | (small_df['pedestrian_road_maintenance_worker'] == 2)].index, axis=0, inplace=True) # dropped rows where pedestrian_road_maintenance_worker was not known\n",
        "small_df.drop(small_df[small_df['casualty_imd_decile'] == -1].index, axis=0, inplace=True) # dropped rows where casualty_imd_decile was not known\n",
        "small_df.drop(small_df[small_df['casualty_home_area_type'] == -1].index, axis=0, inplace=True) # dropped rows where casualty_home_area_type was not known\n",
        "\n",
        "for x in [103,104,105,106,108,109,110,113]:\n",
        "  small_df.drop(small_df[small_df['casualty_type'] == x].index, axis=0, inplace=True) # dropped rows where casualty type was not known or useless"
      ],
      "metadata": {
        "id": "YupMx2kmSnQs"
      },
      "execution_count": 31,
      "outputs": []
    },
    {
      "cell_type": "code",
      "source": [
        "for col in small_df.columns:\n",
        "  print(f'Unique categories in {col}: {len(small_df[col].unique())}')"
      ],
      "metadata": {
        "colab": {
          "base_uri": "https://localhost:8080/"
        },
        "id": "P86NevaJSPP2",
        "outputId": "ff760b8b-edd9-4647-f81f-2b3ab26287b2"
      },
      "execution_count": 32,
      "outputs": [
        {
          "output_type": "stream",
          "name": "stdout",
          "text": [
            "Unique categories in casualty_class: 3\n",
            "Unique categories in sex_of_casualty: 2\n",
            "Unique categories in age_of_casualty: 100\n",
            "Unique categories in casualty_severity: 3\n",
            "Unique categories in pedestrian_location: 10\n",
            "Unique categories in pedestrian_movement: 9\n",
            "Unique categories in car_passenger: 3\n",
            "Unique categories in bus_or_coach_passenger: 5\n",
            "Unique categories in pedestrian_road_maintenance_worker: 2\n",
            "Unique categories in casualty_type: 21\n",
            "Unique categories in casualty_home_area_type: 3\n",
            "Unique categories in casualty_imd_decile: 10\n"
          ]
        }
      ]
    },
    {
      "cell_type": "markdown",
      "source": [
        "### 3. Feature selection\n",
        "\n",
        "The two most commonly used feature selection methods for categorical input data when the target variable is also categorical (e.g. classification predictive modeling) are the chi-squared statistic and the mutual information statistic.\n"
      ],
      "metadata": {
        "id": "FYc2YhYV6HjZ"
      }
    },
    {
      "cell_type": "code",
      "source": [
        "X = small_df.loc[:, small_df.columns != 'casualty_severity']\n",
        "y = small_df.loc[:, small_df.columns == 'casualty_severity']"
      ],
      "metadata": {
        "id": "QkXYtxXM7PKX"
      },
      "execution_count": 33,
      "outputs": []
    },
    {
      "cell_type": "code",
      "source": [
        "chi_scores = chi2(X,y)\n",
        "chi_scores # here first array represents chi square values and second array represents p-values"
      ],
      "metadata": {
        "colab": {
          "base_uri": "https://localhost:8080/"
        },
        "id": "nQtTkjqo6Jux",
        "outputId": "64e3308e-a847-403f-c181-96e0fb13251b"
      },
      "execution_count": 34,
      "outputs": [
        {
          "output_type": "execute_result",
          "data": {
            "text/plain": [
              "(array([8.31037816e+01, 1.09544400e+02, 6.53382332e+03, 3.96575061e+03,\n",
              "        2.00603489e+03, 3.66238128e+02, 1.39823701e+02, 1.14363197e+00,\n",
              "        1.67206367e+03, 1.13835180e+02, 1.94394718e+02]),\n",
              " array([9.00001259e-19, 1.63205886e-24, 0.00000000e+00, 0.00000000e+00,\n",
              "        0.00000000e+00, 2.96757026e-80, 4.34179367e-31, 5.64499385e-01,\n",
              "        0.00000000e+00, 1.90987379e-25, 6.13371256e-43]))"
            ]
          },
          "metadata": {},
          "execution_count": 34
        }
      ]
    },
    {
      "cell_type": "code",
      "source": [
        "p_values = pd.Series(chi_scores[1],index = X.columns)\n",
        "p_values.sort_values(ascending = False , inplace = True)"
      ],
      "metadata": {
        "id": "fmQLKGMD8dA7"
      },
      "execution_count": 35,
      "outputs": []
    },
    {
      "cell_type": "code",
      "source": [
        "p_values.plot.bar()"
      ],
      "metadata": {
        "colab": {
          "base_uri": "https://localhost:8080/",
          "height": 464
        },
        "id": "DYc-JKLs8fP7",
        "outputId": "e20f7c69-354f-49c6-c9bf-23b4c337df29"
      },
      "execution_count": 36,
      "outputs": [
        {
          "output_type": "execute_result",
          "data": {
            "text/plain": [
              "<matplotlib.axes._subplots.AxesSubplot at 0x7f9d44ddd950>"
            ]
          },
          "metadata": {},
          "execution_count": 36
        },
        {
          "output_type": "display_data",
          "data": {
            "text/plain": [
              "<Figure size 432x288 with 1 Axes>"
            ],
            "image/png": "[encoded data removed]"
          },
          "metadata": {
            "needs_background": "light"
          }
        }
      ]
    },
    {
      "cell_type": "markdown",
      "source": [
        "We will drop pedestrian_road_maintenance_worker as it shows a large p-value in comparaison to the rest of the features. Since the rest of the variables have low p-value, it means they are independent of the respone and can be considered for model training.\n"
      ],
      "metadata": {
        "id": "uoZlOv5z9BAb"
      }
    },
    {
      "cell_type": "code",
      "source": [
        "fs_df = small_df.drop(['pedestrian_road_maintenance_worker'], axis=1, inplace=False)"
      ],
      "metadata": {
        "id": "aQnqafggIURL"
      },
      "execution_count": 37,
      "outputs": []
    },
    {
      "cell_type": "code",
      "source": [
        "mi_score = MIC(X,y.values.ravel())\n",
        "print(mi_score) # represents MI score for all features"
      ],
      "metadata": {
        "colab": {
          "base_uri": "https://localhost:8080/"
        },
        "id": "voQi-IBg-Hl0",
        "outputId": "02f5352d-f813-4972-e796-c720563542d1"
      },
      "execution_count": 38,
      "outputs": [
        {
          "output_type": "stream",
          "name": "stdout",
          "text": [
            "[0.01337615 0.01201755 0.00351811 0.00403361 0.00478192 0.00271058\n",
            " 0.         0.         0.03375692 0.01217353 0.00194885]\n"
          ]
        }
      ]
    },
    {
      "cell_type": "markdown",
      "source": [
        "### 4. Splitting data\n",
        "\n",
        "Build 3 train data and test datasets and review which is better for this project."
      ],
      "metadata": {
        "id": "wxRmTCZeCSLI"
      }
    },
    {
      "cell_type": "markdown",
      "source": [
        "Dataset 1 with no MI score curation, names marked with _1. Note that all three datasets will use the same y_train and y_test. So, no need to separate target data."
      ],
      "metadata": {
        "id": "IBxDgcntCwJv"
      }
    },
    {
      "cell_type": "code",
      "source": [
        "X_train_1, X_test_1, y_train, y_test = train_test_split(X, y, test_size=0.2, random_state=8)"
      ],
      "metadata": {
        "id": "e9Vy_vKTCxQe"
      },
      "execution_count": null,
      "outputs": []
    },
    {
      "cell_type": "markdown",
      "source": [
        "Dataset 2 with features have MI scores larger than 0.002"
      ],
      "metadata": {
        "id": "SbYjrBhuC-hI"
      }
    },
    {
      "cell_type": "code",
      "source": [
        "mi_score_selected_index_1 = np.where(mi_score > 0.002)[0]\n",
        "X_2 = X.iloc[:,mi_score_selected_index_1]"
      ],
      "metadata": {
        "id": "7Zj1IL_FBiJn"
      },
      "execution_count": 40,
      "outputs": []
    },
    {
      "cell_type": "code",
      "source": [
        "X_train_2, X_test_2, y_train, y_test = train_test_split(X_2, y, test_size=0.2, random_state=8)"
      ],
      "metadata": {
        "id": "WYpQSWnzBO1d"
      },
      "execution_count": 41,
      "outputs": []
    },
    {
      "cell_type": "markdown",
      "source": [
        "Dataset 3 with features have Mi scores less than 0.002"
      ],
      "metadata": {
        "id": "9R6_RSppDCbm"
      }
    },
    {
      "cell_type": "code",
      "source": [
        "mi_score_selected_index_2 = np.where(mi_score < 0.002)[0]\n",
        "X_3 = X.iloc[:,mi_score_selected_index_2]"
      ],
      "metadata": {
        "id": "1mRlXYmDFDyq"
      },
      "execution_count": 44,
      "outputs": []
    },
    {
      "cell_type": "code",
      "source": [
        "X_train_3, X_test_3, y_train, y_test = train_test_split(X_3, y, test_size=0.2, random_state=8)"
      ],
      "metadata": {
        "id": "xcBSMKIHFIiF"
      },
      "execution_count": 45,
      "outputs": []
    },
    {
      "cell_type": "markdown",
      "source": [
        "Compare the 3 datasets with the Decision Tree classifier"
      ],
      "metadata": {
        "id": "JrWyytDGFQhA"
      }
    },
    {
      "cell_type": "code",
      "source": [
        "model_1 = DTC().fit(X_train_1,y_train)\n",
        "model_2 = DTC().fit(X_train_2,y_train)\n",
        "model_3 = DTC().fit(X_train_3,y_train)\n",
        "score_1 = model_1.score(X_test_1,y_test)\n",
        "score_2 = model_2.score(X_test_2,y_test)\n",
        "score_3 = model_3.score(X_test_3,y_test)\n",
        "print(f\"Dataset 1 score: {score_1}\\nDataset 2 score: {score_2}\\nDataset 3 score: {score_3}\")"
      ],
      "metadata": {
        "colab": {
          "base_uri": "https://localhost:8080/"
        },
        "id": "FeXXSy5lFSqF",
        "outputId": "ba4af306-93ca-482d-a010-7008fa41a842"
      },
      "execution_count": 46,
      "outputs": [
        {
          "output_type": "stream",
          "name": "stdout",
          "text": [
            "Dataset 1 score: 0.7609746172236634\n",
            "Dataset 2 score: 0.7989216135103515\n",
            "Dataset 3 score: 0.8148430744188413\n"
          ]
        }
      ]
    },
    {
      "cell_type": "markdown",
      "source": [
        "The results show we should keep all the original features."
      ],
      "metadata": {
        "id": "C8UCCMzGF7MU"
      }
    },
    {
      "cell_type": "markdown",
      "source": [
        "## **Download dataframe**"
      ],
      "metadata": {
        "id": "9K_S39eSdTDu"
      }
    },
    {
      "cell_type": "code",
      "source": [
        "clean_df = fs_df.copy()\n",
        "clean_df.reset_index(inplace=True)\n",
        "clean_df.drop(['index'], axis=1, inplace=True)"
      ],
      "metadata": {
        "id": "-Sgna7M8drd5"
      },
      "execution_count": 47,
      "outputs": []
    },
    {
      "cell_type": "code",
      "source": [
        "X_train_1.to_csv(r'X_train.csv')\n",
        "X_test_1.to_csv(r'X_test.csv')\n",
        "y_train.to_csv(r'y_train.csv')\n",
        "y_test.to_csv(r'y_test.csv')\n",
        "clean_df.to_csv(r'clean-casualties-2020.csv')"
      ],
      "metadata": {
        "id": "SYkyQ7DwdYJZ"
      },
      "execution_count": 48,
      "outputs": []
    }
  ]
}