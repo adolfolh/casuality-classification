{
  "nbformat": 4,
  "nbformat_minor": 0,
  "metadata": {
    "colab": {
      "name": "modelling.ipynb",
      "provenance": [],
      "authorship_tag": "ABX9TyP0EC3t6foy4ngmWYqHEzkt",
      "include_colab_link": true
    },
    "kernelspec": {
      "name": "python3",
      "display_name": "Python 3"
    },
    "language_info": {
      "name": "python"
    }
  },
  "cells": [
    {
      "cell_type": "markdown",
      "metadata": {
        "id": "view-in-github",
        "colab_type": "text"
      },
      "source": [
        "<a href=\"https://colab.research.google.com/github/adolfolh/casuality-classification/blob/main/modelling.ipynb\" target=\"_parent\"><img src=\"https://colab.research.google.com/assets/colab-badge.svg\" alt=\"Open In Colab\"/></a>"
      ]
    },
    {
      "cell_type": "markdown",
      "source": [
        "# **`3.` MODELLING** 📈"
      ],
      "metadata": {
        "id": "sRIroY3wI-mY"
      }
    },
    {
      "cell_type": "code",
      "execution_count": null,
      "metadata": {
        "id": "UwLg8mQ8I0qx"
      },
      "outputs": [],
      "source": [
        "# Run to download data\n",
        "!wget https://github.com/adolfolh/casuality-classification/raw/main/data/X_train.csv\n",
        "!wget https://github.com/adolfolh/casuality-classification/raw/main/data/y_train.csv\n",
        "!wget https://github.com/adolfolh/casuality-classification/raw/main/data/X_test.csv\n",
        "!wget https://github.com/adolfolh/casuality-classification/raw/main/data/y_test.csv"
      ]
    },
    {
      "cell_type": "code",
      "source": [
        "# Import libraries\n",
        "import pandas as pd\n",
        "import numpy as np\n",
        "import plotly.express as px\n",
        "from sklearn.model_selection import train_test_split\n",
        "from sklearn import tree\n",
        "from sklearn import metrics"
      ],
      "metadata": {
        "id": "AU4Lbl8DePIk"
      },
      "execution_count": 5,
      "outputs": []
    },
    {
      "cell_type": "code",
      "source": [
        "# Import data\n",
        "X_train = pd.read_csv(r'X_train.csv', index_col='Unnamed: 0')\n",
        "y_train = pd.read_csv(r'y_train.csv', index_col='Unnamed: 0')\n",
        "X_test = pd.read_csv(r'X_test.csv', index_col='Unnamed: 0')\n",
        "y_test = pd.read_csv(r'y_test.csv', index_col='Unnamed: 0')"
      ],
      "metadata": {
        "id": "1j8de72EeWWC"
      },
      "execution_count": 6,
      "outputs": []
    },
    {
      "cell_type": "code",
      "source": [
        "print(f\"Shape of training features: {X_train.shape}\")\n",
        "print(f\"Shape of training labels: {y_train.shape}\")\n",
        "print(f\"Shape of testing features: {X_test.shape}\")\n",
        "print(f\"Shape of testing labels: {X_test.shape}\")"
      ],
      "metadata": {
        "colab": {
          "base_uri": "https://localhost:8080/"
        },
        "id": "9UVaTP55gH-B",
        "outputId": "d7ef2ca3-dc2f-4f79-a2c5-75dc58d9af30"
      },
      "execution_count": 7,
      "outputs": [
        {
          "output_type": "stream",
          "name": "stdout",
          "text": [
            "Shape of training features: (78634, 11)\n",
            "Shape of training labels: (78634, 1)\n",
            "Shape of testing features: (19659, 11)\n",
            "Shape of testing labels: (19659, 11)\n"
          ]
        }
      ]
    },
    {
      "cell_type": "code",
      "source": [
        "# Create Decision Tree classifer object\n",
        "clf = tree.DecisionTreeClassifier()\n",
        "\n",
        "# Train Decision Tree Classifer\n",
        "clf = clf.fit(X_train, y_train)"
      ],
      "metadata": {
        "id": "7B1Wnu1RufL3"
      },
      "execution_count": 8,
      "outputs": []
    },
    {
      "cell_type": "code",
      "source": [
        "#Predict the response for test dataset\n",
        "y_pred = clf.predict(X_test)"
      ],
      "metadata": {
        "id": "TEOmjtOovPo7"
      },
      "execution_count": 9,
      "outputs": []
    },
    {
      "cell_type": "code",
      "source": [
        "# Model Accuracy, how often is the classifier correct?\n",
        "print(\"Accuracy:\",metrics.accuracy_score(y_test, y_pred))"
      ],
      "metadata": {
        "colab": {
          "base_uri": "https://localhost:8080/"
        },
        "id": "WjnGbCqLvYdu",
        "outputId": "67683b2a-975d-4a03-aa4c-051037735f3f"
      },
      "execution_count": 10,
      "outputs": [
        {
          "output_type": "stream",
          "name": "stdout",
          "text": [
            "Accuracy: 0.7615341573833867\n"
          ]
        }
      ]
    }
  ]
}