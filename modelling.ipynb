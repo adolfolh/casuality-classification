{
  "nbformat": 4,
  "nbformat_minor": 0,
  "metadata": {
    "colab": {
      "name": "modelling.ipynb",
      "provenance": [],
      "authorship_tag": "ABX9TyPGAQhjwR/SppM/DV72ogDb",
      "include_colab_link": true
    },
    "kernelspec": {
      "name": "python3",
      "display_name": "Python 3"
    },
    "language_info": {
      "name": "python"
    }
  },
  "cells": [
    {
      "cell_type": "markdown",
      "metadata": {
        "id": "view-in-github",
        "colab_type": "text"
      },
      "source": [
        "<a href=\"https://colab.research.google.com/github/adolfolh/casuality-classification/blob/main/modelling.ipynb\" target=\"_parent\"><img src=\"https://colab.research.google.com/assets/colab-badge.svg\" alt=\"Open In Colab\"/></a>"
      ]
    },
    {
      "cell_type": "markdown",
      "source": [
        "# **`3.` MODELLING** 📈"
      ],
      "metadata": {
        "id": "sRIroY3wI-mY"
      }
    },
    {
      "cell_type": "code",
      "execution_count": null,
      "metadata": {
        "id": "UwLg8mQ8I0qx"
      },
      "outputs": [],
      "source": [
        ""
      ]
    }
  ]
}