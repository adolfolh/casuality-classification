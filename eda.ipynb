{
  "nbformat": 4,
  "nbformat_minor": 0,
  "metadata": {
    "colab": {
      "name": "eda.ipynb",
      "provenance": [],
      "collapsed_sections": [],
      "authorship_tag": "ABX9TyN7fpwgL1fK1S9LdRk7livF",
      "include_colab_link": true
    },
    "kernelspec": {
      "name": "python3",
      "display_name": "Python 3"
    },
    "language_info": {
      "name": "python"
    }
  },
  "cells": [
    {
      "cell_type": "markdown",
      "metadata": {
        "id": "view-in-github",
        "colab_type": "text"
      },
      "source": [
        "<a href=\"https://colab.research.google.com/github/adolfolh/casuality-classification/blob/main/eda.ipynb\" target=\"_parent\"><img src=\"https://colab.research.google.com/assets/colab-badge.svg\" alt=\"Open In Colab\"/></a>"
      ]
    },
    {
      "cell_type": "code",
      "execution_count": null,
      "metadata": {
        "id": "88YVSWgTVnfY"
      },
      "outputs": [],
      "source": [
        "# Run to download data\n",
        "!wget https://github.com/adolfolh/casuality-classification/raw/main/data/casualties-2020.csv"
      ]
    },
    {
      "cell_type": "code",
      "source": [
        "# Import libraries\n",
        "import pandas as pd\n",
        "import numpy as np\n",
        "import plotly.express as px"
      ],
      "metadata": {
        "id": "mbxb1uwLcHhX"
      },
      "execution_count": 3,
      "outputs": []
    },
    {
      "cell_type": "code",
      "source": [
        "# Import data\n",
        "raw_data = pd.read_csv(\"casualties-2020.csv\", dtype={\n",
        "    \"accident_index\" : \"string\",\n",
        "    \"accident_reference\" : \"string\",\n",
        "    \"casualty_class\" : \"category\",\n",
        "    \"sex_of_casualty\" : \"category\",\n",
        "    \"age_band_of_casualty\" : \"category\",\n",
        "    \"casualty_severity\" : \"category\",\n",
        "    \"pedestrian_location\" : \"category\",\n",
        "    \"pedestrian_movement\" : \"category\",\n",
        "    \"car_passenger\" : \"category\",\n",
        "    \"bus_or_coach_passenger\" : \"category\",\n",
        "    \"pedestrian_road_maintenance_worker\" : \"category\",\n",
        "    \"casualty_type\" : \"category\",\n",
        "    \"casualty_home_area_type\" : \"category\",\n",
        "    \"casualty_imd_decile\" : \"category\"\n",
        "    })"
      ],
      "metadata": {
        "id": "t5LUGcJnft_q"
      },
      "execution_count": 4,
      "outputs": []
    },
    {
      "cell_type": "code",
      "source": [
        "raw_data.info()"
      ],
      "metadata": {
        "colab": {
          "base_uri": "https://localhost:8080/"
        },
        "id": "i2JwUegpyRwq",
        "outputId": "dd6a7f7f-733a-432f-a2b0-5e3f8484c177"
      },
      "execution_count": 5,
      "outputs": [
        {
          "output_type": "stream",
          "name": "stdout",
          "text": [
            "<class 'pandas.core.frame.DataFrame'>\n",
            "RangeIndex: 115584 entries, 0 to 115583\n",
            "Data columns (total 18 columns):\n",
            " #   Column                              Non-Null Count   Dtype   \n",
            "---  ------                              --------------   -----   \n",
            " 0   accident_index                      115584 non-null  string  \n",
            " 1   accident_year                       115584 non-null  int64   \n",
            " 2   accident_reference                  115584 non-null  string  \n",
            " 3   vehicle_reference                   115584 non-null  int64   \n",
            " 4   casualty_reference                  115584 non-null  int64   \n",
            " 5   casualty_class                      115584 non-null  category\n",
            " 6   sex_of_casualty                     115584 non-null  category\n",
            " 7   age_of_casualty                     115584 non-null  int64   \n",
            " 8   age_band_of_casualty                115584 non-null  category\n",
            " 9   casualty_severity                   115584 non-null  category\n",
            " 10  pedestrian_location                 115584 non-null  category\n",
            " 11  pedestrian_movement                 115584 non-null  category\n",
            " 12  car_passenger                       115584 non-null  category\n",
            " 13  bus_or_coach_passenger              115584 non-null  category\n",
            " 14  pedestrian_road_maintenance_worker  115584 non-null  category\n",
            " 15  casualty_type                       115584 non-null  category\n",
            " 16  casualty_home_area_type             115584 non-null  category\n",
            " 17  casualty_imd_decile                 115584 non-null  category\n",
            "dtypes: category(12), int64(4), string(2)\n",
            "memory usage: 6.6 MB\n"
          ]
        }
      ]
    }
  ]
}