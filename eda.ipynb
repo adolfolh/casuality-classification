{
  "nbformat": 4,
  "nbformat_minor": 0,
  "metadata": {
    "colab": {
      "name": "eda.ipynb",
      "provenance": [],
      "collapsed_sections": [],
      "authorship_tag": "ABX9TyNp8XAoPy8GQ3Qeu2YPKewZ",
      "include_colab_link": true
    },
    "kernelspec": {
      "name": "python3",
      "display_name": "Python 3"
    },
    "language_info": {
      "name": "python"
    }
  },
  "cells": [
    {
      "cell_type": "markdown",
      "metadata": {
        "id": "view-in-github",
        "colab_type": "text"
      },
      "source": [
        "<a href=\"https://colab.research.google.com/github/adolfolh/casuality-classification/blob/main/eda.ipynb\" target=\"_parent\"><img src=\"https://colab.research.google.com/assets/colab-badge.svg\" alt=\"Open In Colab\"/></a>"
      ]
    },
    {
      "cell_type": "code",
      "execution_count": null,
      "metadata": {
        "id": "88YVSWgTVnfY"
      },
      "outputs": [],
      "source": [
        "# Run to download data\n",
        "!wget https://github.com/adolfolh/casuality-classification/raw/main/data/casualties-2020.csv\n",
        "!wget https://github.com/adolfolh/casuality-classification/raw/main/data/accidents-2020.csv"
      ]
    }
  ]
}